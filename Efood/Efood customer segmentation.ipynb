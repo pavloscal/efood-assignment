{
 "cells": [
  {
   "cell_type": "code",
   "execution_count": 4,
   "id": "ff5cdabf",
   "metadata": {},
   "outputs": [],
   "source": [
    "import pandas as pd\n",
    "import seaborn as sns\n",
    "import matplotlib.pyplot as plt\n",
    "import plotly.express as px\n",
    "import numpy as np\n",
    "from scipy.stats import iqr\n",
    "from sklearn.preprocessing import StandardScaler\n",
    "from sklearn.cluster import KMeans"
   ]
  },
  {
   "cell_type": "markdown",
   "id": "4aa42a88",
   "metadata": {},
   "source": [
    "### After importing the useful libraries we read the data"
   ]
  },
  {
   "cell_type": "code",
   "execution_count": 50,
   "id": "f21eb086",
   "metadata": {},
   "outputs": [],
   "source": [
    "df = pd.read_csv('orders.csv')"
   ]
  },
  {
   "cell_type": "code",
   "execution_count": 51,
   "id": "21b8f2eb",
   "metadata": {},
   "outputs": [
    {
     "data": {
      "text/html": [
       "<div>\n",
       "<style scoped>\n",
       "    .dataframe tbody tr th:only-of-type {\n",
       "        vertical-align: middle;\n",
       "    }\n",
       "\n",
       "    .dataframe tbody tr th {\n",
       "        vertical-align: top;\n",
       "    }\n",
       "\n",
       "    .dataframe thead th {\n",
       "        text-align: right;\n",
       "    }\n",
       "</style>\n",
       "<table border=\"1\" class=\"dataframe\">\n",
       "  <thead>\n",
       "    <tr style=\"text-align: right;\">\n",
       "      <th></th>\n",
       "      <th>order_id</th>\n",
       "      <th>user_id</th>\n",
       "      <th>order_timestamp</th>\n",
       "      <th>city</th>\n",
       "      <th>cuisine</th>\n",
       "      <th>paid_cash</th>\n",
       "      <th>amount</th>\n",
       "    </tr>\n",
       "  </thead>\n",
       "  <tbody>\n",
       "    <tr>\n",
       "      <th>0</th>\n",
       "      <td>7322173742136</td>\n",
       "      <td>94223136441</td>\n",
       "      <td>2022-01-18 15:41:28 UTC</td>\n",
       "      <td>Αίγιο</td>\n",
       "      <td>Breakfast</td>\n",
       "      <td>True</td>\n",
       "      <td>3.6</td>\n",
       "    </tr>\n",
       "    <tr>\n",
       "      <th>1</th>\n",
       "      <td>7210978616924</td>\n",
       "      <td>204794985423</td>\n",
       "      <td>2022-01-02 17:50:50 UTC</td>\n",
       "      <td>Αγρίνιο</td>\n",
       "      <td>Breakfast</td>\n",
       "      <td>True</td>\n",
       "      <td>1.9</td>\n",
       "    </tr>\n",
       "    <tr>\n",
       "      <th>2</th>\n",
       "      <td>7221232906132</td>\n",
       "      <td>12703920390</td>\n",
       "      <td>2022-01-04 08:37:12 UTC</td>\n",
       "      <td>Αγρίνιο</td>\n",
       "      <td>Breakfast</td>\n",
       "      <td>True</td>\n",
       "      <td>1.7</td>\n",
       "    </tr>\n",
       "    <tr>\n",
       "      <th>3</th>\n",
       "      <td>7399605199800</td>\n",
       "      <td>673310109528</td>\n",
       "      <td>2022-01-31 11:33:05 UTC</td>\n",
       "      <td>Λιβαδειά</td>\n",
       "      <td>Breakfast</td>\n",
       "      <td>True</td>\n",
       "      <td>3.0</td>\n",
       "    </tr>\n",
       "    <tr>\n",
       "      <th>4</th>\n",
       "      <td>7264221279744</td>\n",
       "      <td>673310109528</td>\n",
       "      <td>2022-01-10 11:18:28 UTC</td>\n",
       "      <td>Λιβαδειά</td>\n",
       "      <td>Breakfast</td>\n",
       "      <td>True</td>\n",
       "      <td>3.0</td>\n",
       "    </tr>\n",
       "    <tr>\n",
       "      <th>...</th>\n",
       "      <td>...</td>\n",
       "      <td>...</td>\n",
       "      <td>...</td>\n",
       "      <td>...</td>\n",
       "      <td>...</td>\n",
       "      <td>...</td>\n",
       "      <td>...</td>\n",
       "    </tr>\n",
       "    <tr>\n",
       "      <th>534265</th>\n",
       "      <td>7383295241752</td>\n",
       "      <td>314285338626</td>\n",
       "      <td>2022-01-28 22:25:04 UTC</td>\n",
       "      <td>Αλεξανδρούπολη</td>\n",
       "      <td>Street food</td>\n",
       "      <td>True</td>\n",
       "      <td>11.9</td>\n",
       "    </tr>\n",
       "    <tr>\n",
       "      <th>534266</th>\n",
       "      <td>7383425578320</td>\n",
       "      <td>586121418057</td>\n",
       "      <td>2022-01-28 22:39:29 UTC</td>\n",
       "      <td>Αλεξανδρούπολη</td>\n",
       "      <td>Street food</td>\n",
       "      <td>True</td>\n",
       "      <td>9.9</td>\n",
       "    </tr>\n",
       "    <tr>\n",
       "      <th>534267</th>\n",
       "      <td>7364485291992</td>\n",
       "      <td>29082002418</td>\n",
       "      <td>2022-01-24 19:29:34 UTC</td>\n",
       "      <td>Αλεξανδρούπολη</td>\n",
       "      <td>Street food</td>\n",
       "      <td>True</td>\n",
       "      <td>15.1</td>\n",
       "    </tr>\n",
       "    <tr>\n",
       "      <th>534268</th>\n",
       "      <td>7231345759480</td>\n",
       "      <td>348528607896</td>\n",
       "      <td>2022-01-05 18:28:41 UTC</td>\n",
       "      <td>Αλεξανδρούπολη</td>\n",
       "      <td>Street food</td>\n",
       "      <td>True</td>\n",
       "      <td>14.7</td>\n",
       "    </tr>\n",
       "    <tr>\n",
       "      <th>534269</th>\n",
       "      <td>7230409165680</td>\n",
       "      <td>117097050336</td>\n",
       "      <td>2022-01-05 15:45:52 UTC</td>\n",
       "      <td>Αλεξανδρούπολη</td>\n",
       "      <td>Street food</td>\n",
       "      <td>False</td>\n",
       "      <td>27.9</td>\n",
       "    </tr>\n",
       "  </tbody>\n",
       "</table>\n",
       "<p>534270 rows × 7 columns</p>\n",
       "</div>"
      ],
      "text/plain": [
       "             order_id       user_id          order_timestamp            city  \\\n",
       "0       7322173742136   94223136441  2022-01-18 15:41:28 UTC           Αίγιο   \n",
       "1       7210978616924  204794985423  2022-01-02 17:50:50 UTC         Αγρίνιο   \n",
       "2       7221232906132   12703920390  2022-01-04 08:37:12 UTC         Αγρίνιο   \n",
       "3       7399605199800  673310109528  2022-01-31 11:33:05 UTC        Λιβαδειά   \n",
       "4       7264221279744  673310109528  2022-01-10 11:18:28 UTC        Λιβαδειά   \n",
       "...               ...           ...                      ...             ...   \n",
       "534265  7383295241752  314285338626  2022-01-28 22:25:04 UTC  Αλεξανδρούπολη   \n",
       "534266  7383425578320  586121418057  2022-01-28 22:39:29 UTC  Αλεξανδρούπολη   \n",
       "534267  7364485291992   29082002418  2022-01-24 19:29:34 UTC  Αλεξανδρούπολη   \n",
       "534268  7231345759480  348528607896  2022-01-05 18:28:41 UTC  Αλεξανδρούπολη   \n",
       "534269  7230409165680  117097050336  2022-01-05 15:45:52 UTC  Αλεξανδρούπολη   \n",
       "\n",
       "            cuisine  paid_cash  amount  \n",
       "0         Breakfast       True     3.6  \n",
       "1         Breakfast       True     1.9  \n",
       "2         Breakfast       True     1.7  \n",
       "3         Breakfast       True     3.0  \n",
       "4         Breakfast       True     3.0  \n",
       "...             ...        ...     ...  \n",
       "534265  Street food       True    11.9  \n",
       "534266  Street food       True     9.9  \n",
       "534267  Street food       True    15.1  \n",
       "534268  Street food       True    14.7  \n",
       "534269  Street food      False    27.9  \n",
       "\n",
       "[534270 rows x 7 columns]"
      ]
     },
     "execution_count": 51,
     "metadata": {},
     "output_type": "execute_result"
    }
   ],
   "source": [
    "df"
   ]
  },
  {
   "cell_type": "markdown",
   "id": "e7d2e81d",
   "metadata": {},
   "source": [
    "### Use only the breakfast users which are the users we want to segment"
   ]
  },
  {
   "cell_type": "code",
   "execution_count": 100,
   "id": "6987b93c",
   "metadata": {},
   "outputs": [],
   "source": [
    "df=df[df['cuisine']=='Breakfast']"
   ]
  },
  {
   "cell_type": "code",
   "execution_count": 101,
   "id": "d714fd93",
   "metadata": {},
   "outputs": [
    {
     "data": {
      "text/html": [
       "<div>\n",
       "<style scoped>\n",
       "    .dataframe tbody tr th:only-of-type {\n",
       "        vertical-align: middle;\n",
       "    }\n",
       "\n",
       "    .dataframe tbody tr th {\n",
       "        vertical-align: top;\n",
       "    }\n",
       "\n",
       "    .dataframe thead th {\n",
       "        text-align: right;\n",
       "    }\n",
       "</style>\n",
       "<table border=\"1\" class=\"dataframe\">\n",
       "  <thead>\n",
       "    <tr style=\"text-align: right;\">\n",
       "      <th></th>\n",
       "      <th>order_id</th>\n",
       "      <th>user_id</th>\n",
       "      <th>order_timestamp</th>\n",
       "      <th>city</th>\n",
       "      <th>cuisine</th>\n",
       "      <th>paid_cash</th>\n",
       "      <th>amount</th>\n",
       "    </tr>\n",
       "  </thead>\n",
       "  <tbody>\n",
       "    <tr>\n",
       "      <th>0</th>\n",
       "      <td>7322173742136</td>\n",
       "      <td>94223136441</td>\n",
       "      <td>2022-01-18 15:41:28 UTC</td>\n",
       "      <td>Αίγιο</td>\n",
       "      <td>Breakfast</td>\n",
       "      <td>1</td>\n",
       "      <td>3.60</td>\n",
       "    </tr>\n",
       "    <tr>\n",
       "      <th>1</th>\n",
       "      <td>7210978616924</td>\n",
       "      <td>204794985423</td>\n",
       "      <td>2022-01-02 17:50:50 UTC</td>\n",
       "      <td>Αγρίνιο</td>\n",
       "      <td>Breakfast</td>\n",
       "      <td>1</td>\n",
       "      <td>1.90</td>\n",
       "    </tr>\n",
       "    <tr>\n",
       "      <th>2</th>\n",
       "      <td>7221232906132</td>\n",
       "      <td>12703920390</td>\n",
       "      <td>2022-01-04 08:37:12 UTC</td>\n",
       "      <td>Αγρίνιο</td>\n",
       "      <td>Breakfast</td>\n",
       "      <td>1</td>\n",
       "      <td>1.70</td>\n",
       "    </tr>\n",
       "    <tr>\n",
       "      <th>3</th>\n",
       "      <td>7399605199800</td>\n",
       "      <td>673310109528</td>\n",
       "      <td>2022-01-31 11:33:05 UTC</td>\n",
       "      <td>Λιβαδειά</td>\n",
       "      <td>Breakfast</td>\n",
       "      <td>1</td>\n",
       "      <td>3.00</td>\n",
       "    </tr>\n",
       "    <tr>\n",
       "      <th>4</th>\n",
       "      <td>7264221279744</td>\n",
       "      <td>673310109528</td>\n",
       "      <td>2022-01-10 11:18:28 UTC</td>\n",
       "      <td>Λιβαδειά</td>\n",
       "      <td>Breakfast</td>\n",
       "      <td>1</td>\n",
       "      <td>3.00</td>\n",
       "    </tr>\n",
       "    <tr>\n",
       "      <th>...</th>\n",
       "      <td>...</td>\n",
       "      <td>...</td>\n",
       "      <td>...</td>\n",
       "      <td>...</td>\n",
       "      <td>...</td>\n",
       "      <td>...</td>\n",
       "      <td>...</td>\n",
       "    </tr>\n",
       "    <tr>\n",
       "      <th>207958</th>\n",
       "      <td>7263840786692</td>\n",
       "      <td>169008847728</td>\n",
       "      <td>2022-01-10 10:07:51 UTC</td>\n",
       "      <td>Ρόδος</td>\n",
       "      <td>Breakfast</td>\n",
       "      <td>0</td>\n",
       "      <td>5.20</td>\n",
       "    </tr>\n",
       "    <tr>\n",
       "      <th>207959</th>\n",
       "      <td>7400785395384</td>\n",
       "      <td>204555630573</td>\n",
       "      <td>2022-01-31 14:43:05 UTC</td>\n",
       "      <td>Ρόδος</td>\n",
       "      <td>Breakfast</td>\n",
       "      <td>0</td>\n",
       "      <td>6.65</td>\n",
       "    </tr>\n",
       "    <tr>\n",
       "      <th>207960</th>\n",
       "      <td>7375063674700</td>\n",
       "      <td>311089886688</td>\n",
       "      <td>2022-01-27 17:16:07 UTC</td>\n",
       "      <td>Ρόδος</td>\n",
       "      <td>Breakfast</td>\n",
       "      <td>1</td>\n",
       "      <td>4.60</td>\n",
       "    </tr>\n",
       "    <tr>\n",
       "      <th>207961</th>\n",
       "      <td>7211036589604</td>\n",
       "      <td>210899698527</td>\n",
       "      <td>2022-01-02 17:59:55 UTC</td>\n",
       "      <td>Λέρος</td>\n",
       "      <td>Breakfast</td>\n",
       "      <td>0</td>\n",
       "      <td>2.00</td>\n",
       "    </tr>\n",
       "    <tr>\n",
       "      <th>207962</th>\n",
       "      <td>7207784380520</td>\n",
       "      <td>337311275196</td>\n",
       "      <td>2022-01-02 08:29:44 UTC</td>\n",
       "      <td>Λέρος</td>\n",
       "      <td>Breakfast</td>\n",
       "      <td>1</td>\n",
       "      <td>5.60</td>\n",
       "    </tr>\n",
       "  </tbody>\n",
       "</table>\n",
       "<p>207963 rows × 7 columns</p>\n",
       "</div>"
      ],
      "text/plain": [
       "             order_id       user_id          order_timestamp      city  \\\n",
       "0       7322173742136   94223136441  2022-01-18 15:41:28 UTC     Αίγιο   \n",
       "1       7210978616924  204794985423  2022-01-02 17:50:50 UTC   Αγρίνιο   \n",
       "2       7221232906132   12703920390  2022-01-04 08:37:12 UTC   Αγρίνιο   \n",
       "3       7399605199800  673310109528  2022-01-31 11:33:05 UTC  Λιβαδειά   \n",
       "4       7264221279744  673310109528  2022-01-10 11:18:28 UTC  Λιβαδειά   \n",
       "...               ...           ...                      ...       ...   \n",
       "207958  7263840786692  169008847728  2022-01-10 10:07:51 UTC     Ρόδος   \n",
       "207959  7400785395384  204555630573  2022-01-31 14:43:05 UTC     Ρόδος   \n",
       "207960  7375063674700  311089886688  2022-01-27 17:16:07 UTC     Ρόδος   \n",
       "207961  7211036589604  210899698527  2022-01-02 17:59:55 UTC     Λέρος   \n",
       "207962  7207784380520  337311275196  2022-01-02 08:29:44 UTC     Λέρος   \n",
       "\n",
       "          cuisine  paid_cash  amount  \n",
       "0       Breakfast          1    3.60  \n",
       "1       Breakfast          1    1.90  \n",
       "2       Breakfast          1    1.70  \n",
       "3       Breakfast          1    3.00  \n",
       "4       Breakfast          1    3.00  \n",
       "...           ...        ...     ...  \n",
       "207958  Breakfast          0    5.20  \n",
       "207959  Breakfast          0    6.65  \n",
       "207960  Breakfast          1    4.60  \n",
       "207961  Breakfast          0    2.00  \n",
       "207962  Breakfast          1    5.60  \n",
       "\n",
       "[207963 rows x 7 columns]"
      ]
     },
     "execution_count": 101,
     "metadata": {},
     "output_type": "execute_result"
    }
   ],
   "source": [
    "df"
   ]
  },
  {
   "cell_type": "markdown",
   "id": "7d5b6098",
   "metadata": {},
   "source": [
    "### Check the data types"
   ]
  },
  {
   "cell_type": "code",
   "execution_count": 102,
   "id": "8729a340",
   "metadata": {},
   "outputs": [
    {
     "data": {
      "text/plain": [
       "order_id             int64\n",
       "user_id              int64\n",
       "order_timestamp     object\n",
       "city                object\n",
       "cuisine             object\n",
       "paid_cash            int32\n",
       "amount             float64\n",
       "dtype: object"
      ]
     },
     "execution_count": 102,
     "metadata": {},
     "output_type": "execute_result"
    }
   ],
   "source": [
    "df.dtypes"
   ]
  },
  {
   "cell_type": "markdown",
   "id": "41040cf8",
   "metadata": {},
   "source": [
    "### Convert the boolean paid cash to int 0 and 1 to help on clustering "
   ]
  },
  {
   "cell_type": "code",
   "execution_count": 103,
   "id": "636e1db7",
   "metadata": {},
   "outputs": [
    {
     "name": "stderr",
     "output_type": "stream",
     "text": [
      "C:\\Users\\pcala\\AppData\\Local\\Temp/ipykernel_10856/2495654848.py:1: SettingWithCopyWarning: \n",
      "A value is trying to be set on a copy of a slice from a DataFrame.\n",
      "Try using .loc[row_indexer,col_indexer] = value instead\n",
      "\n",
      "See the caveats in the documentation: https://pandas.pydata.org/pandas-docs/stable/user_guide/indexing.html#returning-a-view-versus-a-copy\n",
      "  df[\"paid_cash\"] = df[\"paid_cash\"].astype(int)\n"
     ]
    }
   ],
   "source": [
    "df[\"paid_cash\"] = df[\"paid_cash\"].astype(int)"
   ]
  },
  {
   "cell_type": "markdown",
   "id": "8ff9838c",
   "metadata": {},
   "source": [
    "### We make a short analysis on the variables"
   ]
  },
  {
   "cell_type": "code",
   "execution_count": 104,
   "id": "a1ac46f1",
   "metadata": {},
   "outputs": [
    {
     "data": {
      "text/html": [
       "<div>\n",
       "<style scoped>\n",
       "    .dataframe tbody tr th:only-of-type {\n",
       "        vertical-align: middle;\n",
       "    }\n",
       "\n",
       "    .dataframe tbody tr th {\n",
       "        vertical-align: top;\n",
       "    }\n",
       "\n",
       "    .dataframe thead th {\n",
       "        text-align: right;\n",
       "    }\n",
       "</style>\n",
       "<table border=\"1\" class=\"dataframe\">\n",
       "  <thead>\n",
       "    <tr style=\"text-align: right;\">\n",
       "      <th></th>\n",
       "      <th>order_id</th>\n",
       "      <th>user_id</th>\n",
       "      <th>paid_cash</th>\n",
       "      <th>amount</th>\n",
       "    </tr>\n",
       "  </thead>\n",
       "  <tbody>\n",
       "    <tr>\n",
       "      <th>count</th>\n",
       "      <td>2.079630e+05</td>\n",
       "      <td>2.079630e+05</td>\n",
       "      <td>207963.000000</td>\n",
       "      <td>207963.000000</td>\n",
       "    </tr>\n",
       "    <tr>\n",
       "      <th>mean</th>\n",
       "      <td>7.305541e+12</td>\n",
       "      <td>2.959549e+11</td>\n",
       "      <td>0.587032</td>\n",
       "      <td>5.093825</td>\n",
       "    </tr>\n",
       "    <tr>\n",
       "      <th>std</th>\n",
       "      <td>5.981107e+10</td>\n",
       "      <td>2.053375e+11</td>\n",
       "      <td>0.492368</td>\n",
       "      <td>3.248764</td>\n",
       "    </tr>\n",
       "    <tr>\n",
       "      <th>min</th>\n",
       "      <td>7.202719e+12</td>\n",
       "      <td>1.103620e+08</td>\n",
       "      <td>0.000000</td>\n",
       "      <td>0.400000</td>\n",
       "    </tr>\n",
       "    <tr>\n",
       "      <th>25%</th>\n",
       "      <td>7.251892e+12</td>\n",
       "      <td>1.271327e+11</td>\n",
       "      <td>0.000000</td>\n",
       "      <td>3.100000</td>\n",
       "    </tr>\n",
       "    <tr>\n",
       "      <th>50%</th>\n",
       "      <td>7.307995e+12</td>\n",
       "      <td>2.450251e+11</td>\n",
       "      <td>1.000000</td>\n",
       "      <td>4.400000</td>\n",
       "    </tr>\n",
       "    <tr>\n",
       "      <th>75%</th>\n",
       "      <td>7.362920e+12</td>\n",
       "      <td>4.922339e+11</td>\n",
       "      <td>1.000000</td>\n",
       "      <td>6.000000</td>\n",
       "    </tr>\n",
       "    <tr>\n",
       "      <th>max</th>\n",
       "      <td>7.404765e+12</td>\n",
       "      <td>6.855662e+11</td>\n",
       "      <td>1.000000</td>\n",
       "      <td>150.000000</td>\n",
       "    </tr>\n",
       "  </tbody>\n",
       "</table>\n",
       "</div>"
      ],
      "text/plain": [
       "           order_id       user_id      paid_cash         amount\n",
       "count  2.079630e+05  2.079630e+05  207963.000000  207963.000000\n",
       "mean   7.305541e+12  2.959549e+11       0.587032       5.093825\n",
       "std    5.981107e+10  2.053375e+11       0.492368       3.248764\n",
       "min    7.202719e+12  1.103620e+08       0.000000       0.400000\n",
       "25%    7.251892e+12  1.271327e+11       0.000000       3.100000\n",
       "50%    7.307995e+12  2.450251e+11       1.000000       4.400000\n",
       "75%    7.362920e+12  4.922339e+11       1.000000       6.000000\n",
       "max    7.404765e+12  6.855662e+11       1.000000     150.000000"
      ]
     },
     "execution_count": 104,
     "metadata": {},
     "output_type": "execute_result"
    }
   ],
   "source": [
    "df.describe()"
   ]
  },
  {
   "cell_type": "code",
   "execution_count": 105,
   "id": "a0029232",
   "metadata": {},
   "outputs": [
    {
     "data": {
      "text/plain": [
       "<AxesSubplot:xlabel='amount', ylabel='Count'>"
      ]
     },
     "execution_count": 105,
     "metadata": {},
     "output_type": "execute_result"
    },
    {
     "data": {
      "image/png": "[encoded data removed]",
      "text/plain": [
       "<Figure size 432x288 with 1 Axes>"
      ]
     },
     "metadata": {
      "needs_background": "light"
     },
     "output_type": "display_data"
    }
   ],
   "source": [
    "sns.histplot(data=df, x=\"amount\")"
   ]
  },
  {
   "cell_type": "code",
   "execution_count": 106,
   "id": "39c60f80",
   "metadata": {},
   "outputs": [
    {
     "data": {
      "text/plain": [
       "<AxesSubplot:xlabel='paid_cash', ylabel='Count'>"
      ]
     },
     "execution_count": 106,
     "metadata": {},
     "output_type": "execute_result"
    },
    {
     "data": {
      "image/png": "[encoded data removed]",
      "text/plain": [
       "<Figure size 432x288 with 1 Axes>"
      ]
     },
     "metadata": {
      "needs_background": "light"
     },
     "output_type": "display_data"
    }
   ],
   "source": [
    "sns.histplot(data=df, x=\"paid_cash\")"
   ]
  },
  {
   "cell_type": "markdown",
   "id": "422542fc",
   "metadata": {},
   "source": [
    "### We create the Frequency: How often have they bought breakfast"
   ]
  },
  {
   "cell_type": "code",
   "execution_count": 107,
   "id": "a13b2184",
   "metadata": {},
   "outputs": [],
   "source": [
    "freq = df.groupby('user_id')['order_timestamp'].count()\n",
    "df_freq = pd.DataFrame(freq).reset_index()\n",
    "df_freq.columns = ['user_id','frequency']"
   ]
  },
  {
   "cell_type": "code",
   "execution_count": 108,
   "id": "893c2be2",
   "metadata": {},
   "outputs": [
    {
     "data": {
      "text/html": [
       "<div>\n",
       "<style scoped>\n",
       "    .dataframe tbody tr th:only-of-type {\n",
       "        vertical-align: middle;\n",
       "    }\n",
       "\n",
       "    .dataframe tbody tr th {\n",
       "        vertical-align: top;\n",
       "    }\n",
       "\n",
       "    .dataframe thead th {\n",
       "        text-align: right;\n",
       "    }\n",
       "</style>\n",
       "<table border=\"1\" class=\"dataframe\">\n",
       "  <thead>\n",
       "    <tr style=\"text-align: right;\">\n",
       "      <th></th>\n",
       "      <th>user_id</th>\n",
       "      <th>frequency</th>\n",
       "    </tr>\n",
       "  </thead>\n",
       "  <tbody>\n",
       "    <tr>\n",
       "      <th>0</th>\n",
       "      <td>110361993</td>\n",
       "      <td>1</td>\n",
       "    </tr>\n",
       "    <tr>\n",
       "      <th>1</th>\n",
       "      <td>144777339</td>\n",
       "      <td>14</td>\n",
       "    </tr>\n",
       "    <tr>\n",
       "      <th>2</th>\n",
       "      <td>145424244</td>\n",
       "      <td>1</td>\n",
       "    </tr>\n",
       "    <tr>\n",
       "      <th>3</th>\n",
       "      <td>153963390</td>\n",
       "      <td>1</td>\n",
       "    </tr>\n",
       "    <tr>\n",
       "      <th>4</th>\n",
       "      <td>155515962</td>\n",
       "      <td>1</td>\n",
       "    </tr>\n",
       "    <tr>\n",
       "      <th>...</th>\n",
       "      <td>...</td>\n",
       "      <td>...</td>\n",
       "    </tr>\n",
       "    <tr>\n",
       "      <th>55829</th>\n",
       "      <td>685517465640</td>\n",
       "      <td>1</td>\n",
       "    </tr>\n",
       "    <tr>\n",
       "      <th>55830</th>\n",
       "      <td>685519276974</td>\n",
       "      <td>1</td>\n",
       "    </tr>\n",
       "    <tr>\n",
       "      <th>55831</th>\n",
       "      <td>685526134167</td>\n",
       "      <td>1</td>\n",
       "    </tr>\n",
       "    <tr>\n",
       "      <th>55832</th>\n",
       "      <td>685538295981</td>\n",
       "      <td>1</td>\n",
       "    </tr>\n",
       "    <tr>\n",
       "      <th>55833</th>\n",
       "      <td>685566242277</td>\n",
       "      <td>1</td>\n",
       "    </tr>\n",
       "  </tbody>\n",
       "</table>\n",
       "<p>55834 rows × 2 columns</p>\n",
       "</div>"
      ],
      "text/plain": [
       "            user_id  frequency\n",
       "0         110361993          1\n",
       "1         144777339         14\n",
       "2         145424244          1\n",
       "3         153963390          1\n",
       "4         155515962          1\n",
       "...             ...        ...\n",
       "55829  685517465640          1\n",
       "55830  685519276974          1\n",
       "55831  685526134167          1\n",
       "55832  685538295981          1\n",
       "55833  685566242277          1\n",
       "\n",
       "[55834 rows x 2 columns]"
      ]
     },
     "execution_count": 108,
     "metadata": {},
     "output_type": "execute_result"
    }
   ],
   "source": [
    "df_freq"
   ]
  },
  {
   "cell_type": "markdown",
   "id": "d1c13c5d",
   "metadata": {},
   "source": [
    "### merge this dataframe with the previous one"
   ]
  },
  {
   "cell_type": "code",
   "execution_count": 109,
   "id": "b0814e19",
   "metadata": {},
   "outputs": [],
   "source": [
    "df_=df_freq.merge(df,on='user_id')"
   ]
  },
  {
   "cell_type": "code",
   "execution_count": 137,
   "id": "532f048e",
   "metadata": {},
   "outputs": [
    {
     "data": {
      "text/html": [
       "<div>\n",
       "<style scoped>\n",
       "    .dataframe tbody tr th:only-of-type {\n",
       "        vertical-align: middle;\n",
       "    }\n",
       "\n",
       "    .dataframe tbody tr th {\n",
       "        vertical-align: top;\n",
       "    }\n",
       "\n",
       "    .dataframe thead th {\n",
       "        text-align: right;\n",
       "    }\n",
       "</style>\n",
       "<table border=\"1\" class=\"dataframe\">\n",
       "  <thead>\n",
       "    <tr style=\"text-align: right;\">\n",
       "      <th></th>\n",
       "      <th>user_id</th>\n",
       "      <th>frequency</th>\n",
       "      <th>order_id</th>\n",
       "      <th>order_timestamp</th>\n",
       "      <th>city</th>\n",
       "      <th>cuisine</th>\n",
       "      <th>paid_cash</th>\n",
       "      <th>amount</th>\n",
       "    </tr>\n",
       "  </thead>\n",
       "  <tbody>\n",
       "    <tr>\n",
       "      <th>0</th>\n",
       "      <td>110361993</td>\n",
       "      <td>1</td>\n",
       "      <td>7249621603152</td>\n",
       "      <td>2022-01-08 11:17:38 UTC</td>\n",
       "      <td>Ρόδος</td>\n",
       "      <td>Breakfast</td>\n",
       "      <td>0</td>\n",
       "      <td>4.3</td>\n",
       "    </tr>\n",
       "    <tr>\n",
       "      <th>1</th>\n",
       "      <td>144777339</td>\n",
       "      <td>14</td>\n",
       "      <td>7399018219132</td>\n",
       "      <td>2022-01-31 09:45:38 UTC</td>\n",
       "      <td>Αίγιο</td>\n",
       "      <td>Breakfast</td>\n",
       "      <td>0</td>\n",
       "      <td>3.4</td>\n",
       "    </tr>\n",
       "    <tr>\n",
       "      <th>2</th>\n",
       "      <td>144777339</td>\n",
       "      <td>14</td>\n",
       "      <td>7214818797164</td>\n",
       "      <td>2022-01-03 09:45:07 UTC</td>\n",
       "      <td>Αίγιο</td>\n",
       "      <td>Breakfast</td>\n",
       "      <td>0</td>\n",
       "      <td>4.8</td>\n",
       "    </tr>\n",
       "    <tr>\n",
       "      <th>3</th>\n",
       "      <td>144777339</td>\n",
       "      <td>14</td>\n",
       "      <td>7320302215060</td>\n",
       "      <td>2022-01-18 10:57:18 UTC</td>\n",
       "      <td>Αίγιο</td>\n",
       "      <td>Breakfast</td>\n",
       "      <td>0</td>\n",
       "      <td>3.4</td>\n",
       "    </tr>\n",
       "    <tr>\n",
       "      <th>4</th>\n",
       "      <td>144777339</td>\n",
       "      <td>14</td>\n",
       "      <td>7236022202912</td>\n",
       "      <td>2022-01-06 12:53:50 UTC</td>\n",
       "      <td>Αίγιο</td>\n",
       "      <td>Breakfast</td>\n",
       "      <td>1</td>\n",
       "      <td>4.6</td>\n",
       "    </tr>\n",
       "    <tr>\n",
       "      <th>...</th>\n",
       "      <td>...</td>\n",
       "      <td>...</td>\n",
       "      <td>...</td>\n",
       "      <td>...</td>\n",
       "      <td>...</td>\n",
       "      <td>...</td>\n",
       "      <td>...</td>\n",
       "      <td>...</td>\n",
       "    </tr>\n",
       "    <tr>\n",
       "      <th>207958</th>\n",
       "      <td>685517465640</td>\n",
       "      <td>1</td>\n",
       "      <td>7402777499808</td>\n",
       "      <td>2022-01-31 20:01:25 UTC</td>\n",
       "      <td>Αγρίνιο</td>\n",
       "      <td>Breakfast</td>\n",
       "      <td>1</td>\n",
       "      <td>2.0</td>\n",
       "    </tr>\n",
       "    <tr>\n",
       "      <th>207959</th>\n",
       "      <td>685519276974</td>\n",
       "      <td>1</td>\n",
       "      <td>7402935977888</td>\n",
       "      <td>2022-01-31 20:19:06 UTC</td>\n",
       "      <td>Λαμία</td>\n",
       "      <td>Breakfast</td>\n",
       "      <td>1</td>\n",
       "      <td>5.4</td>\n",
       "    </tr>\n",
       "    <tr>\n",
       "      <th>207960</th>\n",
       "      <td>685526134167</td>\n",
       "      <td>1</td>\n",
       "      <td>7402965342944</td>\n",
       "      <td>2022-01-31 20:22:07 UTC</td>\n",
       "      <td>Βέροια</td>\n",
       "      <td>Breakfast</td>\n",
       "      <td>1</td>\n",
       "      <td>6.1</td>\n",
       "    </tr>\n",
       "    <tr>\n",
       "      <th>207961</th>\n",
       "      <td>685538295981</td>\n",
       "      <td>1</td>\n",
       "      <td>7403286028000</td>\n",
       "      <td>2022-01-31 20:53:03 UTC</td>\n",
       "      <td>Δράμα</td>\n",
       "      <td>Breakfast</td>\n",
       "      <td>0</td>\n",
       "      <td>7.5</td>\n",
       "    </tr>\n",
       "    <tr>\n",
       "      <th>207962</th>\n",
       "      <td>685566242277</td>\n",
       "      <td>1</td>\n",
       "      <td>7404304861436</td>\n",
       "      <td>2022-01-31 22:30:24 UTC</td>\n",
       "      <td>Δράμα</td>\n",
       "      <td>Breakfast</td>\n",
       "      <td>1</td>\n",
       "      <td>11.5</td>\n",
       "    </tr>\n",
       "  </tbody>\n",
       "</table>\n",
       "<p>207963 rows × 8 columns</p>\n",
       "</div>"
      ],
      "text/plain": [
       "             user_id  frequency       order_id          order_timestamp  \\\n",
       "0          110361993          1  7249621603152  2022-01-08 11:17:38 UTC   \n",
       "1          144777339         14  7399018219132  2022-01-31 09:45:38 UTC   \n",
       "2          144777339         14  7214818797164  2022-01-03 09:45:07 UTC   \n",
       "3          144777339         14  7320302215060  2022-01-18 10:57:18 UTC   \n",
       "4          144777339         14  7236022202912  2022-01-06 12:53:50 UTC   \n",
       "...              ...        ...            ...                      ...   \n",
       "207958  685517465640          1  7402777499808  2022-01-31 20:01:25 UTC   \n",
       "207959  685519276974          1  7402935977888  2022-01-31 20:19:06 UTC   \n",
       "207960  685526134167          1  7402965342944  2022-01-31 20:22:07 UTC   \n",
       "207961  685538295981          1  7403286028000  2022-01-31 20:53:03 UTC   \n",
       "207962  685566242277          1  7404304861436  2022-01-31 22:30:24 UTC   \n",
       "\n",
       "           city    cuisine  paid_cash  amount  \n",
       "0         Ρόδος  Breakfast          0     4.3  \n",
       "1         Αίγιο  Breakfast          0     3.4  \n",
       "2         Αίγιο  Breakfast          0     4.8  \n",
       "3         Αίγιο  Breakfast          0     3.4  \n",
       "4         Αίγιο  Breakfast          1     4.6  \n",
       "...         ...        ...        ...     ...  \n",
       "207958  Αγρίνιο  Breakfast          1     2.0  \n",
       "207959    Λαμία  Breakfast          1     5.4  \n",
       "207960   Βέροια  Breakfast          1     6.1  \n",
       "207961    Δράμα  Breakfast          0     7.5  \n",
       "207962    Δράμα  Breakfast          1    11.5  \n",
       "\n",
       "[207963 rows x 8 columns]"
      ]
     },
     "execution_count": 137,
     "metadata": {},
     "output_type": "execute_result"
    }
   ],
   "source": [
    "df_"
   ]
  },
  {
   "cell_type": "markdown",
   "id": "cac1a2d2",
   "metadata": {},
   "source": [
    "### Total ammount of each user"
   ]
  },
  {
   "cell_type": "code",
   "execution_count": 111,
   "id": "f4468837",
   "metadata": {},
   "outputs": [],
   "source": [
    "\n",
    "m = df_.groupby('user_id')['amount'].sum()\n",
    "m = pd.DataFrame(m).reset_index()\n",
    "m.columns = ['user_id','total_amount']"
   ]
  },
  {
   "cell_type": "code",
   "execution_count": 112,
   "id": "552f1c68",
   "metadata": {},
   "outputs": [],
   "source": [
    "final_df=m.merge(df_,on='user_id')"
   ]
  },
  {
   "cell_type": "code",
   "execution_count": 113,
   "id": "592a0108",
   "metadata": {},
   "outputs": [
    {
     "data": {
      "text/html": [
       "<div>\n",
       "<style scoped>\n",
       "    .dataframe tbody tr th:only-of-type {\n",
       "        vertical-align: middle;\n",
       "    }\n",
       "\n",
       "    .dataframe tbody tr th {\n",
       "        vertical-align: top;\n",
       "    }\n",
       "\n",
       "    .dataframe thead th {\n",
       "        text-align: right;\n",
       "    }\n",
       "</style>\n",
       "<table border=\"1\" class=\"dataframe\">\n",
       "  <thead>\n",
       "    <tr style=\"text-align: right;\">\n",
       "      <th></th>\n",
       "      <th>user_id</th>\n",
       "      <th>total_amount</th>\n",
       "      <th>frequency</th>\n",
       "      <th>order_id</th>\n",
       "      <th>order_timestamp</th>\n",
       "      <th>city</th>\n",
       "      <th>cuisine</th>\n",
       "      <th>paid_cash</th>\n",
       "      <th>amount</th>\n",
       "    </tr>\n",
       "  </thead>\n",
       "  <tbody>\n",
       "    <tr>\n",
       "      <th>0</th>\n",
       "      <td>110361993</td>\n",
       "      <td>4.3</td>\n",
       "      <td>1</td>\n",
       "      <td>7249621603152</td>\n",
       "      <td>2022-01-08 11:17:38 UTC</td>\n",
       "      <td>Ρόδος</td>\n",
       "      <td>Breakfast</td>\n",
       "      <td>0</td>\n",
       "      <td>4.3</td>\n",
       "    </tr>\n",
       "    <tr>\n",
       "      <th>1</th>\n",
       "      <td>144777339</td>\n",
       "      <td>60.8</td>\n",
       "      <td>14</td>\n",
       "      <td>7399018219132</td>\n",
       "      <td>2022-01-31 09:45:38 UTC</td>\n",
       "      <td>Αίγιο</td>\n",
       "      <td>Breakfast</td>\n",
       "      <td>0</td>\n",
       "      <td>3.4</td>\n",
       "    </tr>\n",
       "    <tr>\n",
       "      <th>2</th>\n",
       "      <td>144777339</td>\n",
       "      <td>60.8</td>\n",
       "      <td>14</td>\n",
       "      <td>7214818797164</td>\n",
       "      <td>2022-01-03 09:45:07 UTC</td>\n",
       "      <td>Αίγιο</td>\n",
       "      <td>Breakfast</td>\n",
       "      <td>0</td>\n",
       "      <td>4.8</td>\n",
       "    </tr>\n",
       "    <tr>\n",
       "      <th>3</th>\n",
       "      <td>144777339</td>\n",
       "      <td>60.8</td>\n",
       "      <td>14</td>\n",
       "      <td>7320302215060</td>\n",
       "      <td>2022-01-18 10:57:18 UTC</td>\n",
       "      <td>Αίγιο</td>\n",
       "      <td>Breakfast</td>\n",
       "      <td>0</td>\n",
       "      <td>3.4</td>\n",
       "    </tr>\n",
       "    <tr>\n",
       "      <th>4</th>\n",
       "      <td>144777339</td>\n",
       "      <td>60.8</td>\n",
       "      <td>14</td>\n",
       "      <td>7236022202912</td>\n",
       "      <td>2022-01-06 12:53:50 UTC</td>\n",
       "      <td>Αίγιο</td>\n",
       "      <td>Breakfast</td>\n",
       "      <td>1</td>\n",
       "      <td>4.6</td>\n",
       "    </tr>\n",
       "    <tr>\n",
       "      <th>...</th>\n",
       "      <td>...</td>\n",
       "      <td>...</td>\n",
       "      <td>...</td>\n",
       "      <td>...</td>\n",
       "      <td>...</td>\n",
       "      <td>...</td>\n",
       "      <td>...</td>\n",
       "      <td>...</td>\n",
       "      <td>...</td>\n",
       "    </tr>\n",
       "    <tr>\n",
       "      <th>207958</th>\n",
       "      <td>685517465640</td>\n",
       "      <td>2.0</td>\n",
       "      <td>1</td>\n",
       "      <td>7402777499808</td>\n",
       "      <td>2022-01-31 20:01:25 UTC</td>\n",
       "      <td>Αγρίνιο</td>\n",
       "      <td>Breakfast</td>\n",
       "      <td>1</td>\n",
       "      <td>2.0</td>\n",
       "    </tr>\n",
       "    <tr>\n",
       "      <th>207959</th>\n",
       "      <td>685519276974</td>\n",
       "      <td>5.4</td>\n",
       "      <td>1</td>\n",
       "      <td>7402935977888</td>\n",
       "      <td>2022-01-31 20:19:06 UTC</td>\n",
       "      <td>Λαμία</td>\n",
       "      <td>Breakfast</td>\n",
       "      <td>1</td>\n",
       "      <td>5.4</td>\n",
       "    </tr>\n",
       "    <tr>\n",
       "      <th>207960</th>\n",
       "      <td>685526134167</td>\n",
       "      <td>6.1</td>\n",
       "      <td>1</td>\n",
       "      <td>7402965342944</td>\n",
       "      <td>2022-01-31 20:22:07 UTC</td>\n",
       "      <td>Βέροια</td>\n",
       "      <td>Breakfast</td>\n",
       "      <td>1</td>\n",
       "      <td>6.1</td>\n",
       "    </tr>\n",
       "    <tr>\n",
       "      <th>207961</th>\n",
       "      <td>685538295981</td>\n",
       "      <td>7.5</td>\n",
       "      <td>1</td>\n",
       "      <td>7403286028000</td>\n",
       "      <td>2022-01-31 20:53:03 UTC</td>\n",
       "      <td>Δράμα</td>\n",
       "      <td>Breakfast</td>\n",
       "      <td>0</td>\n",
       "      <td>7.5</td>\n",
       "    </tr>\n",
       "    <tr>\n",
       "      <th>207962</th>\n",
       "      <td>685566242277</td>\n",
       "      <td>11.5</td>\n",
       "      <td>1</td>\n",
       "      <td>7404304861436</td>\n",
       "      <td>2022-01-31 22:30:24 UTC</td>\n",
       "      <td>Δράμα</td>\n",
       "      <td>Breakfast</td>\n",
       "      <td>1</td>\n",
       "      <td>11.5</td>\n",
       "    </tr>\n",
       "  </tbody>\n",
       "</table>\n",
       "<p>207963 rows × 9 columns</p>\n",
       "</div>"
      ],
      "text/plain": [
       "             user_id  total_amount  frequency       order_id  \\\n",
       "0          110361993           4.3          1  7249621603152   \n",
       "1          144777339          60.8         14  7399018219132   \n",
       "2          144777339          60.8         14  7214818797164   \n",
       "3          144777339          60.8         14  7320302215060   \n",
       "4          144777339          60.8         14  7236022202912   \n",
       "...              ...           ...        ...            ...   \n",
       "207958  685517465640           2.0          1  7402777499808   \n",
       "207959  685519276974           5.4          1  7402935977888   \n",
       "207960  685526134167           6.1          1  7402965342944   \n",
       "207961  685538295981           7.5          1  7403286028000   \n",
       "207962  685566242277          11.5          1  7404304861436   \n",
       "\n",
       "                order_timestamp     city    cuisine  paid_cash  amount  \n",
       "0       2022-01-08 11:17:38 UTC    Ρόδος  Breakfast          0     4.3  \n",
       "1       2022-01-31 09:45:38 UTC    Αίγιο  Breakfast          0     3.4  \n",
       "2       2022-01-03 09:45:07 UTC    Αίγιο  Breakfast          0     4.8  \n",
       "3       2022-01-18 10:57:18 UTC    Αίγιο  Breakfast          0     3.4  \n",
       "4       2022-01-06 12:53:50 UTC    Αίγιο  Breakfast          1     4.6  \n",
       "...                         ...      ...        ...        ...     ...  \n",
       "207958  2022-01-31 20:01:25 UTC  Αγρίνιο  Breakfast          1     2.0  \n",
       "207959  2022-01-31 20:19:06 UTC    Λαμία  Breakfast          1     5.4  \n",
       "207960  2022-01-31 20:22:07 UTC   Βέροια  Breakfast          1     6.1  \n",
       "207961  2022-01-31 20:53:03 UTC    Δράμα  Breakfast          0     7.5  \n",
       "207962  2022-01-31 22:30:24 UTC    Δράμα  Breakfast          1    11.5  \n",
       "\n",
       "[207963 rows x 9 columns]"
      ]
     },
     "execution_count": 113,
     "metadata": {},
     "output_type": "execute_result"
    }
   ],
   "source": [
    "final_df"
   ]
  },
  {
   "cell_type": "markdown",
   "id": "295022b8",
   "metadata": {},
   "source": [
    "### Create the final dataset"
   ]
  },
  {
   "cell_type": "code",
   "execution_count": 114,
   "id": "60272221",
   "metadata": {},
   "outputs": [],
   "source": [
    "Data=final_df[['user_id','frequency','total_amount','city','cuisine','paid_cash']]"
   ]
  },
  {
   "cell_type": "code",
   "execution_count": 115,
   "id": "358e8a7a",
   "metadata": {},
   "outputs": [
    {
     "data": {
      "text/html": [
       "<div>\n",
       "<style scoped>\n",
       "    .dataframe tbody tr th:only-of-type {\n",
       "        vertical-align: middle;\n",
       "    }\n",
       "\n",
       "    .dataframe tbody tr th {\n",
       "        vertical-align: top;\n",
       "    }\n",
       "\n",
       "    .dataframe thead th {\n",
       "        text-align: right;\n",
       "    }\n",
       "</style>\n",
       "<table border=\"1\" class=\"dataframe\">\n",
       "  <thead>\n",
       "    <tr style=\"text-align: right;\">\n",
       "      <th></th>\n",
       "      <th>user_id</th>\n",
       "      <th>frequency</th>\n",
       "      <th>total_amount</th>\n",
       "      <th>city</th>\n",
       "      <th>cuisine</th>\n",
       "      <th>paid_cash</th>\n",
       "    </tr>\n",
       "  </thead>\n",
       "  <tbody>\n",
       "    <tr>\n",
       "      <th>0</th>\n",
       "      <td>110361993</td>\n",
       "      <td>1</td>\n",
       "      <td>4.3</td>\n",
       "      <td>Ρόδος</td>\n",
       "      <td>Breakfast</td>\n",
       "      <td>0</td>\n",
       "    </tr>\n",
       "    <tr>\n",
       "      <th>1</th>\n",
       "      <td>144777339</td>\n",
       "      <td>14</td>\n",
       "      <td>60.8</td>\n",
       "      <td>Αίγιο</td>\n",
       "      <td>Breakfast</td>\n",
       "      <td>0</td>\n",
       "    </tr>\n",
       "    <tr>\n",
       "      <th>2</th>\n",
       "      <td>144777339</td>\n",
       "      <td>14</td>\n",
       "      <td>60.8</td>\n",
       "      <td>Αίγιο</td>\n",
       "      <td>Breakfast</td>\n",
       "      <td>0</td>\n",
       "    </tr>\n",
       "    <tr>\n",
       "      <th>3</th>\n",
       "      <td>144777339</td>\n",
       "      <td>14</td>\n",
       "      <td>60.8</td>\n",
       "      <td>Αίγιο</td>\n",
       "      <td>Breakfast</td>\n",
       "      <td>0</td>\n",
       "    </tr>\n",
       "    <tr>\n",
       "      <th>4</th>\n",
       "      <td>144777339</td>\n",
       "      <td>14</td>\n",
       "      <td>60.8</td>\n",
       "      <td>Αίγιο</td>\n",
       "      <td>Breakfast</td>\n",
       "      <td>1</td>\n",
       "    </tr>\n",
       "    <tr>\n",
       "      <th>...</th>\n",
       "      <td>...</td>\n",
       "      <td>...</td>\n",
       "      <td>...</td>\n",
       "      <td>...</td>\n",
       "      <td>...</td>\n",
       "      <td>...</td>\n",
       "    </tr>\n",
       "    <tr>\n",
       "      <th>207958</th>\n",
       "      <td>685517465640</td>\n",
       "      <td>1</td>\n",
       "      <td>2.0</td>\n",
       "      <td>Αγρίνιο</td>\n",
       "      <td>Breakfast</td>\n",
       "      <td>1</td>\n",
       "    </tr>\n",
       "    <tr>\n",
       "      <th>207959</th>\n",
       "      <td>685519276974</td>\n",
       "      <td>1</td>\n",
       "      <td>5.4</td>\n",
       "      <td>Λαμία</td>\n",
       "      <td>Breakfast</td>\n",
       "      <td>1</td>\n",
       "    </tr>\n",
       "    <tr>\n",
       "      <th>207960</th>\n",
       "      <td>685526134167</td>\n",
       "      <td>1</td>\n",
       "      <td>6.1</td>\n",
       "      <td>Βέροια</td>\n",
       "      <td>Breakfast</td>\n",
       "      <td>1</td>\n",
       "    </tr>\n",
       "    <tr>\n",
       "      <th>207961</th>\n",
       "      <td>685538295981</td>\n",
       "      <td>1</td>\n",
       "      <td>7.5</td>\n",
       "      <td>Δράμα</td>\n",
       "      <td>Breakfast</td>\n",
       "      <td>0</td>\n",
       "    </tr>\n",
       "    <tr>\n",
       "      <th>207962</th>\n",
       "      <td>685566242277</td>\n",
       "      <td>1</td>\n",
       "      <td>11.5</td>\n",
       "      <td>Δράμα</td>\n",
       "      <td>Breakfast</td>\n",
       "      <td>1</td>\n",
       "    </tr>\n",
       "  </tbody>\n",
       "</table>\n",
       "<p>207963 rows × 6 columns</p>\n",
       "</div>"
      ],
      "text/plain": [
       "             user_id  frequency  total_amount     city    cuisine  paid_cash\n",
       "0          110361993          1           4.3    Ρόδος  Breakfast          0\n",
       "1          144777339         14          60.8    Αίγιο  Breakfast          0\n",
       "2          144777339         14          60.8    Αίγιο  Breakfast          0\n",
       "3          144777339         14          60.8    Αίγιο  Breakfast          0\n",
       "4          144777339         14          60.8    Αίγιο  Breakfast          1\n",
       "...              ...        ...           ...      ...        ...        ...\n",
       "207958  685517465640          1           2.0  Αγρίνιο  Breakfast          1\n",
       "207959  685519276974          1           5.4    Λαμία  Breakfast          1\n",
       "207960  685526134167          1           6.1   Βέροια  Breakfast          1\n",
       "207961  685538295981          1           7.5    Δράμα  Breakfast          0\n",
       "207962  685566242277          1          11.5    Δράμα  Breakfast          1\n",
       "\n",
       "[207963 rows x 6 columns]"
      ]
     },
     "execution_count": 115,
     "metadata": {},
     "output_type": "execute_result"
    }
   ],
   "source": [
    "Data"
   ]
  },
  {
   "cell_type": "markdown",
   "id": "ad80e0b3",
   "metadata": {},
   "source": [
    "### Check about Outliers by creating  boxplot. We don't have serious outliers"
   ]
  },
  {
   "cell_type": "code",
   "execution_count": 116,
   "id": "8c6109c8",
   "metadata": {},
   "outputs": [
    {
     "name": "stdout",
     "output_type": "stream",
     "text": [
      "frequency: \n"
     ]
    },
    {
     "data": {
      "image/png": "[encoded data removed]",
      "text/plain": [
       "<Figure size 432x288 with 1 Axes>"
      ]
     },
     "metadata": {
      "needs_background": "light"
     },
     "output_type": "display_data"
    },
    {
     "name": "stdout",
     "output_type": "stream",
     "text": [
      "total_amount: \n"
     ]
    },
    {
     "data": {
      "image/png": "[encoded data removed]",
      "text/plain": [
       "<Figure size 432x288 with 1 Axes>"
      ]
     },
     "metadata": {
      "needs_background": "light"
     },
     "output_type": "display_data"
    }
   ],
   "source": [
    "import seaborn as sns\n",
    "import matplotlib.pyplot as plt\n",
    "list1 = ['frequency','total_amount']\n",
    "for i in list1:\n",
    "    print(str(i)+': ')\n",
    "    ax = sns.boxplot(x=Data[str(i)])\n",
    "    plt.show()"
   ]
  },
  {
   "cell_type": "markdown",
   "id": "e0d4712a",
   "metadata": {},
   "source": [
    "### Standardization because we will use euclidean distance"
   ]
  },
  {
   "cell_type": "code",
   "execution_count": 117,
   "id": "d65e4dc6",
   "metadata": {},
   "outputs": [],
   "source": [
    "from sklearn.preprocessing import StandardScaler\n",
    "new_df = Data.drop_duplicates()\n",
    "col_names = ['frequency','total_amount']\n",
    "features = new_df[col_names]\n",
    "scaler = StandardScaler().fit(features.values)\n",
    "features = scaler.transform(features.values)\n",
    "scaled_features = pd.DataFrame(features, columns = col_names)"
   ]
  },
  {
   "cell_type": "code",
   "execution_count": 118,
   "id": "54b141ac",
   "metadata": {},
   "outputs": [
    {
     "data": {
      "text/html": [
       "<div>\n",
       "<style scoped>\n",
       "    .dataframe tbody tr th:only-of-type {\n",
       "        vertical-align: middle;\n",
       "    }\n",
       "\n",
       "    .dataframe tbody tr th {\n",
       "        vertical-align: top;\n",
       "    }\n",
       "\n",
       "    .dataframe thead th {\n",
       "        text-align: right;\n",
       "    }\n",
       "</style>\n",
       "<table border=\"1\" class=\"dataframe\">\n",
       "  <thead>\n",
       "    <tr style=\"text-align: right;\">\n",
       "      <th></th>\n",
       "      <th>frequency</th>\n",
       "      <th>total_amount</th>\n",
       "    </tr>\n",
       "  </thead>\n",
       "  <tbody>\n",
       "    <tr>\n",
       "      <th>0</th>\n",
       "      <td>-0.613573</td>\n",
       "      <td>-0.684629</td>\n",
       "    </tr>\n",
       "    <tr>\n",
       "      <th>1</th>\n",
       "      <td>1.747010</td>\n",
       "      <td>1.516491</td>\n",
       "    </tr>\n",
       "    <tr>\n",
       "      <th>2</th>\n",
       "      <td>1.747010</td>\n",
       "      <td>1.516491</td>\n",
       "    </tr>\n",
       "    <tr>\n",
       "      <th>3</th>\n",
       "      <td>-0.613573</td>\n",
       "      <td>-0.388549</td>\n",
       "    </tr>\n",
       "    <tr>\n",
       "      <th>4</th>\n",
       "      <td>-0.613573</td>\n",
       "      <td>-0.501527</td>\n",
       "    </tr>\n",
       "    <tr>\n",
       "      <th>...</th>\n",
       "      <td>...</td>\n",
       "      <td>...</td>\n",
       "    </tr>\n",
       "    <tr>\n",
       "      <th>67480</th>\n",
       "      <td>-0.613573</td>\n",
       "      <td>-0.774232</td>\n",
       "    </tr>\n",
       "    <tr>\n",
       "      <th>67481</th>\n",
       "      <td>-0.613573</td>\n",
       "      <td>-0.641775</td>\n",
       "    </tr>\n",
       "    <tr>\n",
       "      <th>67482</th>\n",
       "      <td>-0.613573</td>\n",
       "      <td>-0.614504</td>\n",
       "    </tr>\n",
       "    <tr>\n",
       "      <th>67483</th>\n",
       "      <td>-0.613573</td>\n",
       "      <td>-0.559963</td>\n",
       "    </tr>\n",
       "    <tr>\n",
       "      <th>67484</th>\n",
       "      <td>-0.613573</td>\n",
       "      <td>-0.404132</td>\n",
       "    </tr>\n",
       "  </tbody>\n",
       "</table>\n",
       "<p>67485 rows × 2 columns</p>\n",
       "</div>"
      ],
      "text/plain": [
       "       frequency  total_amount\n",
       "0      -0.613573     -0.684629\n",
       "1       1.747010      1.516491\n",
       "2       1.747010      1.516491\n",
       "3      -0.613573     -0.388549\n",
       "4      -0.613573     -0.501527\n",
       "...          ...           ...\n",
       "67480  -0.613573     -0.774232\n",
       "67481  -0.613573     -0.641775\n",
       "67482  -0.613573     -0.614504\n",
       "67483  -0.613573     -0.559963\n",
       "67484  -0.613573     -0.404132\n",
       "\n",
       "[67485 rows x 2 columns]"
      ]
     },
     "execution_count": 118,
     "metadata": {},
     "output_type": "execute_result"
    }
   ],
   "source": [
    "scaled_features"
   ]
  },
  {
   "cell_type": "markdown",
   "id": "96edf98f",
   "metadata": {},
   "source": [
    "### Building a clustering model, we need to decide how many segments we want to group the data into. This is achieved by a heuristic called the elbow method. We will create a loop and run the K-Means algorithm from 1 to 10 clusters. Then, we can plot model results for this range of values and select the elbow of the curve as the number of clusters to use."
   ]
  },
  {
   "cell_type": "markdown",
   "id": "343090ac",
   "metadata": {},
   "source": [
    "### A K-Means clustering algorithm to perform customer segmentation.The goal of a K-Means clustering model is to segment all the data available into non-overlapping sub-groups that are distinct from each other."
   ]
  },
  {
   "cell_type": "code",
   "execution_count": 119,
   "id": "7f81711d",
   "metadata": {},
   "outputs": [
    {
     "data": {
      "text/plain": [
       "Text(0, 0.5, 'Inertia')"
      ]
     },
     "execution_count": 119,
     "metadata": {},
     "output_type": "execute_result"
    },
    {
     "data": {
      "image/png": "[encoded data removed]",
      "text/plain": [
       "<Figure size 864x432 with 1 Axes>"
      ]
     },
     "metadata": {
      "needs_background": "light"
     },
     "output_type": "display_data"
    }
   ],
   "source": [
    "import matplotlib.pyplot as plt\n",
    "from sklearn.datasets import make_blobs\n",
    "from sklearn.cluster import KMeans\n",
    "from sklearn.metrics import silhouette_score\n",
    "from sklearn.decomposition import PCA\n",
    "from mpl_toolkits.mplot3d import Axes3D\n",
    "SSE = []\n",
    "for cluster in range(1,10):\n",
    "    kmeans = KMeans(n_clusters = cluster, init='k-means++')\n",
    "    kmeans.fit(scaled_features)\n",
    "    SSE.append(kmeans.inertia_)\n",
    "# converting the results into a dataframe and plotting them\n",
    "frame = pd.DataFrame({'Cluster':range(1,10), 'SSE':SSE})\n",
    "plt.figure(figsize=(12,6))\n",
    "plt.plot(frame['Cluster'], frame['SSE'], marker='o')\n",
    "plt.xlabel('Number of clusters')\n",
    "plt.ylabel('Inertia')"
   ]
  },
  {
   "cell_type": "markdown",
   "id": "5c43e1d9",
   "metadata": {},
   "source": [
    "###  Build a model with 4 clusters the best silhoutte score 0.60 (the silhouette score we want to be as close we can to 1) "
   ]
  },
  {
   "cell_type": "code",
   "execution_count": 131,
   "id": "a8b243fa",
   "metadata": {},
   "outputs": [
    {
     "data": {
      "text/plain": [
       "KMeans(n_clusters=4)"
      ]
     },
     "execution_count": 131,
     "metadata": {},
     "output_type": "execute_result"
    }
   ],
   "source": [
    "\n",
    "kmeans = KMeans( n_clusters = 4, init='k-means++')\n",
    "kmeans.fit(scaled_features)"
   ]
  },
  {
   "cell_type": "code",
   "execution_count": 132,
   "id": "849e94ca",
   "metadata": {},
   "outputs": [
    {
     "name": "stdout",
     "output_type": "stream",
     "text": [
      "0.601665713161287\n"
     ]
    }
   ],
   "source": [
    "print(silhouette_score(scaled_features, kmeans.labels_, metric='euclidean'))"
   ]
  },
  {
   "cell_type": "markdown",
   "id": "9ef863f4",
   "metadata": {},
   "source": [
    "###  Built  segmentation model and assign clusters to each customer in the dataset"
   ]
  },
  {
   "cell_type": "code",
   "execution_count": 133,
   "id": "b635f104",
   "metadata": {},
   "outputs": [],
   "source": [
    "pred = kmeans.predict(scaled_features)\n",
    "frame = pd.DataFrame(new_df)\n",
    "frame['cluster'] = pred"
   ]
  },
  {
   "cell_type": "markdown",
   "id": "25f85877",
   "metadata": {},
   "source": [
    "###  visualize our data to identify the distinct traits of customers in each segment:"
   ]
  },
  {
   "cell_type": "code",
   "execution_count": 134,
   "id": "adcfb75f",
   "metadata": {},
   "outputs": [
    {
     "data": {
      "image/png": "[encoded data removed]",
      "text/plain": [
       "<Figure size 432x288 with 1 Axes>"
      ]
     },
     "metadata": {
      "needs_background": "light"
     },
     "output_type": "display_data"
    },
    {
     "data": {
      "image/png": "[encoded data removed]",
      "text/plain": [
       "<Figure size 432x288 with 1 Axes>"
      ]
     },
     "metadata": {
      "needs_background": "light"
     },
     "output_type": "display_data"
    }
   ],
   "source": [
    "avg_df = frame.groupby(['cluster'], as_index=False).mean()\n",
    "for i in list1:\n",
    "    sns.barplot(x='cluster',y=str(i),data=avg_df)\n",
    "    plt.show()"
   ]
  },
  {
   "cell_type": "code",
   "execution_count": 135,
   "id": "1127a255",
   "metadata": {},
   "outputs": [
    {
     "data": {
      "text/html": [
       "<div>\n",
       "<style scoped>\n",
       "    .dataframe tbody tr th:only-of-type {\n",
       "        vertical-align: middle;\n",
       "    }\n",
       "\n",
       "    .dataframe tbody tr th {\n",
       "        vertical-align: top;\n",
       "    }\n",
       "\n",
       "    .dataframe thead th {\n",
       "        text-align: right;\n",
       "    }\n",
       "</style>\n",
       "<table border=\"1\" class=\"dataframe\">\n",
       "  <thead>\n",
       "    <tr style=\"text-align: right;\">\n",
       "      <th></th>\n",
       "      <th>cluster</th>\n",
       "      <th>user_id</th>\n",
       "      <th>frequency</th>\n",
       "      <th>total_amount</th>\n",
       "      <th>paid_cash</th>\n",
       "    </tr>\n",
       "  </thead>\n",
       "  <tbody>\n",
       "    <tr>\n",
       "      <th>0</th>\n",
       "      <td>0</td>\n",
       "      <td>2.771976e+11</td>\n",
       "      <td>15.582542</td>\n",
       "      <td>72.091556</td>\n",
       "      <td>0.541928</td>\n",
       "    </tr>\n",
       "    <tr>\n",
       "      <th>1</th>\n",
       "      <td>1</td>\n",
       "      <td>3.138653e+11</td>\n",
       "      <td>1.865977</td>\n",
       "      <td>9.937940</td>\n",
       "      <td>0.603952</td>\n",
       "    </tr>\n",
       "    <tr>\n",
       "      <th>2</th>\n",
       "      <td>2</td>\n",
       "      <td>2.879172e+11</td>\n",
       "      <td>6.733648</td>\n",
       "      <td>34.381350</td>\n",
       "      <td>0.553025</td>\n",
       "    </tr>\n",
       "    <tr>\n",
       "      <th>3</th>\n",
       "      <td>3</td>\n",
       "      <td>2.673848e+11</td>\n",
       "      <td>31.151546</td>\n",
       "      <td>143.736062</td>\n",
       "      <td>0.547423</td>\n",
       "    </tr>\n",
       "  </tbody>\n",
       "</table>\n",
       "</div>"
      ],
      "text/plain": [
       "   cluster       user_id  frequency  total_amount  paid_cash\n",
       "0        0  2.771976e+11  15.582542     72.091556   0.541928\n",
       "1        1  3.138653e+11   1.865977      9.937940   0.603952\n",
       "2        2  2.879172e+11   6.733648     34.381350   0.553025\n",
       "3        3  2.673848e+11  31.151546    143.736062   0.547423"
      ]
     },
     "execution_count": 135,
     "metadata": {},
     "output_type": "execute_result"
    }
   ],
   "source": [
    "avg_df"
   ]
  }
 ],
 "metadata": {
  "kernelspec": {
   "display_name": "Python 3 (ipykernel)",
   "language": "python",
   "name": "python3"
  },
  "language_info": {
   "codemirror_mode": {
    "name": "ipython",
    "version": 3
   },
   "file_extension": ".py",
   "mimetype": "text/x-python",
   "name": "python",
   "nbconvert_exporter": "python",
   "pygments_lexer": "ipython3",
   "version": "3.9.7"
  }
 },
 "nbformat": 4,
 "nbformat_minor": 5
}
